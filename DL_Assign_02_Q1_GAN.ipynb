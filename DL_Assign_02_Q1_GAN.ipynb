{
  "nbformat": 4,
  "nbformat_minor": 0,
  "metadata": {
    "colab": {
      "name": "DL_Assign_02_Q1_GAN.ipynb",
      "version": "0.3.2",
      "provenance": [],
      "collapsed_sections": [],
      "include_colab_link": true
    },
    "kernelspec": {
      "name": "python3",
      "display_name": "Python 3"
    },
    "accelerator": "GPU"
  },
  "cells": [
    {
      "cell_type": "markdown",
      "metadata": {
        "id": "view-in-github",
        "colab_type": "text"
      },
      "source": [
        "<a href=\"https://colab.research.google.com/github/bhavi289/3-Layer-Neural-Network/blob/master/DL_Assign_02_Q1_GAN.ipynb\" target=\"_parent\"><img src=\"https://colab.research.google.com/assets/colab-badge.svg\" alt=\"Open In Colab\"/></a>"
      ]
    },
    {
      "metadata": {
        "id": "N3EEKNLkNZdN",
        "colab_type": "code",
        "colab": {}
      },
      "cell_type": "code",
      "source": [
        "# —Preview TF 2.0 Alpha build with GPU support (unstable, Ubuntu and Windows)\n",
        "# !pip install tensorflow==2.0.0-alpha0 \n",
        "\n",
        "# —Preview TF 2.0 Alpha build with GPU support (unstable, Ubuntu and Windows)\n",
        "!pip install -q tensorflow-gpu==2.0.0-alpha0\n",
        "import tensorflow as tf"
      ],
      "execution_count": 0,
      "outputs": []
    },
    {
      "metadata": {
        "id": "QZp479AwNWQZ",
        "colab_type": "code",
        "colab": {}
      },
      "cell_type": "code",
      "source": [
        "from __future__ import absolute_import, division, print_function\n",
        "import tensorflow as tf"
      ],
      "execution_count": 0,
      "outputs": []
    },
    {
      "metadata": {
        "id": "h-Ye4OjnNvwe",
        "colab_type": "code",
        "outputId": "c55d4430-aaa7-418d-d320-ed78c57ac2ef",
        "colab": {
          "base_uri": "https://localhost:8080/",
          "height": 36
        }
      },
      "cell_type": "code",
      "source": [
        "tf.__version__"
      ],
      "execution_count": 145,
      "outputs": [
        {
          "output_type": "execute_result",
          "data": {
            "text/plain": [
              "'2.0.0-alpha0'"
            ]
          },
          "metadata": {
            "tags": []
          },
          "execution_count": 145
        }
      ]
    },
    {
      "metadata": {
        "id": "P4dv-jKOEaNK",
        "colab_type": "code",
        "outputId": "f64e6766-cc2e-4c18-804d-a5a7e9fc9430",
        "colab": {
          "base_uri": "https://localhost:8080/",
          "height": 76
        }
      },
      "cell_type": "code",
      "source": [
        "# Load the Drive helper and mount\n",
        "import math\n",
        "import numpy as np\n",
        "import h5py\n",
        "import matplotlib.pyplot as plt\n",
        "import matplotlib\n",
        "import scipy\n",
        "from PIL import Image\n",
        "from scipy import ndimage\n",
        "import tensorflow as tf\n",
        "from tensorflow.python.framework import ops\n",
        "import os\n",
        "from sklearn.model_selection import train_test_split\n",
        "from google.colab import drive\n",
        "\n",
        "# This will prompt for authorization.\n",
        "drive.mount('/content/drive')"
      ],
      "execution_count": 146,
      "outputs": [
        {
          "output_type": "stream",
          "text": [
            "Drive already mounted at /content/drive; to attempt to forcibly remount, call drive.mount(\"/content/drive\", force_remount=True).\n"
          ],
          "name": "stdout"
        }
      ]
    },
    {
      "metadata": {
        "id": "t_e0DIl6GoSZ",
        "colab_type": "code",
        "colab": {}
      },
      "cell_type": "code",
      "source": [
        "dataset_path = 'drive/My Drive/DL Assign2 GAN Dataset/faces94/'"
      ],
      "execution_count": 0,
      "outputs": []
    },
    {
      "metadata": {
        "id": "DNzL1_RXG1Fo",
        "colab_type": "code",
        "outputId": "1caae21e-8080-42d3-a000-3aeafa734197",
        "colab": {
          "base_uri": "https://localhost:8080/",
          "height": 36
        }
      },
      "cell_type": "code",
      "source": [
        "os.walk(dataset_path)"
      ],
      "execution_count": 148,
      "outputs": [
        {
          "output_type": "execute_result",
          "data": {
            "text/plain": [
              "<generator object walk at 0x7f7de361c468>"
            ]
          },
          "metadata": {
            "tags": []
          },
          "execution_count": 148
        }
      ]
    },
    {
      "metadata": {
        "id": "qPykaVaBJ4ij",
        "colab_type": "code",
        "outputId": "f1028d75-f6fd-424d-ab71-babfca6d6362",
        "colab": {
          "base_uri": "https://localhost:8080/",
          "height": 76
        }
      },
      "cell_type": "code",
      "source": [
        "'''flag = 0\n",
        "X, y = '', ''\n",
        "for root, _, files in os.walk(dataset_path):\n",
        "  for file in files:\n",
        "    try:\n",
        "        # file_path = root + '/' + file\n",
        "        # class is dependent variable. Taken from folder name where images are kept\n",
        "        # ground_truth = int(file_path.strip().split('/')[-2]) -1\n",
        "        print (file)\n",
        "        file_path = dataset_path\n",
        "#         im = matplotlib.pyplot.imread(file)\n",
        "#         image = np.array(im)\n",
        "#         if flag == 0:\n",
        "#           flag = 1\n",
        "#           X = np.array([image])\n",
        "#         else:\n",
        "#           X = np.append(X, [image], axis=0)\n",
        "    except Exception as e:\n",
        "        print (e)   \n",
        "        pass\n",
        "\n",
        "# data, labels = np.arange(10).reshape((5, 2)), range(5)\n",
        "# data_train, data_test, labels_train, labels_test = train_test_split(data, labels, test_size=0.20, random_state=42)\n",
        "\n",
        "# x_train, x_test, y_train, y_test = train_test_split(X, y, test_size=0.3)\n",
        "\n",
        "# print (\"success\")\n",
        "print (X, len(X))'''"
      ],
      "execution_count": 149,
      "outputs": [
        {
          "output_type": "execute_result",
          "data": {
            "text/plain": [
              "'flag = 0\\nX, y = \\'\\', \\'\\'\\nfor root, _, files in os.walk(dataset_path):\\n  for file in files:\\n    try:\\n        # file_path = root + \\'/\\' + file\\n        # class is dependent variable. Taken from folder name where images are kept\\n        # ground_truth = int(file_path.strip().split(\\'/\\')[-2]) -1\\n        print (file)\\n        file_path = dataset_path\\n#         im = matplotlib.pyplot.imread(file)\\n#         image = np.array(im)\\n#         if flag == 0:\\n#           flag = 1\\n#           X = np.array([image])\\n#         else:\\n#           X = np.append(X, [image], axis=0)\\n    except Exception as e:\\n        print (e)   \\n        pass\\n\\n# data, labels = np.arange(10).reshape((5, 2)), range(5)\\n# data_train, data_test, labels_train, labels_test = train_test_split(data, labels, test_size=0.20, random_state=42)\\n\\n# x_train, x_test, y_train, y_test = train_test_split(X, y, test_size=0.3)\\n\\n# print (\"success\")\\nprint (X, len(X))'"
            ]
          },
          "metadata": {
            "tags": []
          },
          "execution_count": 149
        }
      ]
    },
    {
      "metadata": {
        "id": "dlBQ-RisLQii",
        "colab_type": "code",
        "colab": {}
      },
      "cell_type": "code",
      "source": [
        "import glob # The glob module finds all the pathnames matching a specified pattern according to the rules used by the Unix shell, although results are returned in arbitrary order. \n",
        "import imageio # Imageio is a Python library that provides an easy interface to read and write a wide range of image data, including animated images, volumetric data, and scientific formats. \n",
        "%matplotlib inline \n",
        "import matplotlib.pyplot as plt \n",
        "import numpy as np\n",
        "import os # This module provides a portable way of using operating system dependent functionality. \n",
        "import PIL # DescriptionPython Imaging Library is a free library for the Python programming language that adds support for opening, manipulating, and saving many different image file formats.\n",
        "import tensorflow.keras.layers as layers # Keras layers API\n",
        "import time\n",
        "from IPython import display # For displaying image"
      ],
      "execution_count": 0,
      "outputs": []
    },
    {
      "metadata": {
        "id": "ctWyC0cTOQDv",
        "colab_type": "code",
        "outputId": "076baee2-0785-4291-ba83-389012f0bcc9",
        "colab": {
          "base_uri": "https://localhost:8080/",
          "height": 232
        }
      },
      "cell_type": "code",
      "source": [
        "from tensorflow.python.client import device_lib\n",
        "\n",
        "device_lib.list_local_devices()[-1]"
      ],
      "execution_count": 151,
      "outputs": [
        {
          "output_type": "execute_result",
          "data": {
            "text/plain": [
              "name: \"/device:GPU:0\"\n",
              "device_type: \"GPU\"\n",
              "memory_limit: 11326753997\n",
              "locality {\n",
              "  bus_id: 1\n",
              "  links {\n",
              "  }\n",
              "}\n",
              "incarnation: 17315857326826930410\n",
              "physical_device_desc: \"device: 0, name: Tesla K80, pci bus id: 0000:00:04.0, compute capability: 3.7\""
            ]
          },
          "metadata": {
            "tags": []
          },
          "execution_count": 151
        }
      ]
    },
    {
      "metadata": {
        "id": "ZKSzS4rkRrk3",
        "colab_type": "code",
        "outputId": "b40bc2b2-7435-4e16-d752-69e09816ba22",
        "colab": {
          "base_uri": "https://localhost:8080/",
          "height": 52
        }
      },
      "cell_type": "code",
      "source": [
        "flag = 0\n",
        "# X, y = '', ''\n",
        "X = []\n",
        "for root, directories, files in os.walk(dataset_path):\n",
        "#   print (f\"{root}\\n\\n, Here{_}\\n\\n, {files}\\n\")\n",
        "    \n",
        "  for file in files:\n",
        "    try:\n",
        "        file_path = root + '/' + file\n",
        "#         print (file_path)\n",
        "        extension_list = ['jpg', 'jpeg', 'png', 'svg']\n",
        "        if (file_path.split('.')[-1] in extension_list):\n",
        "          X.append(file_path)\n",
        "        # class is dependent variable. Taken from folder name where images are kept\n",
        "        # ground_truth = int(file_path.strip().split('/')[-2]) -1\n",
        "#         print (file)\n",
        "#         im = matplotlib.pyplot.imread(file_path)\n",
        "#         image = np.array(im)\n",
        "#         if flag == 0:\n",
        "#           flag = 1\n",
        "#           X = np.array([image])\n",
        "#         else:\n",
        "#           X = np.append(X, [image], axis=0)\n",
        "    except Exception as e:\n",
        "        print (e)   \n",
        "        pass\n",
        "\n",
        "# data, labels = np.arange(10).reshape((5, 2)), range(5)\n",
        "# data_train, data_test, labels_train, labels_test = train_test_split(data, labels, test_size=0.20, random_state=42)\n",
        "\n",
        "# x_train, x_test, y_train, y_test = train_test_split(X, y, test_size=0.3)\n",
        "\n",
        "print (\"success\")\n",
        "print (len(X))"
      ],
      "execution_count": 152,
      "outputs": [
        {
          "output_type": "stream",
          "text": [
            "success\n",
            "3059\n"
          ],
          "name": "stdout"
        }
      ]
    },
    {
      "metadata": {
        "id": "g6i14hg-BmZd",
        "colab_type": "code",
        "colab": {}
      },
      "cell_type": "code",
      "source": [
        "# Helper function to load image\n",
        "def load_image( infilename ) :\n",
        "    img = PIL.Image.open( infilename )\n",
        "#     print ((img))\n",
        "#     print (np.array(img).shape)\n",
        "    img = img.resize((64,64))\n",
        "    img.load()\n",
        "    data = np.asarray( img, dtype=\"int32\" )\n",
        "    return data"
      ],
      "execution_count": 0,
      "outputs": []
    },
    {
      "metadata": {
        "id": "7auNwzxVBGzI",
        "colab_type": "code",
        "outputId": "bc6b3b5a-ef0e-4d2b-d443-efbaf4ddbad9",
        "colab": {
          "base_uri": "https://localhost:8080/",
          "height": 286
        }
      },
      "cell_type": "code",
      "source": [
        "X_backup = X\n",
        "print (len(X_backup))\n",
        "plt.imshow(load_image(X[3000]), interpolation='nearest')\n",
        "plt.show()"
      ],
      "execution_count": 154,
      "outputs": [
        {
          "output_type": "stream",
          "text": [
            "3059\n"
          ],
          "name": "stdout"
        },
        {
          "output_type": "display_data",
          "data": {
            "image/png": "[encoded data removed]",
            "text/plain": [
              "<Figure size 432x288 with 1 Axes>"
            ]
          },
          "metadata": {
            "tags": []
          }
        }
      ]
    },
    {
      "metadata": {
        "id": "ZWjNJ9GyBnmE",
        "colab_type": "code",
        "colab": {}
      },
      "cell_type": "code",
      "source": [
        "test = load_image(dataset_path + \"male/gjnorm/gjnorm.6.jpg\")"
      ],
      "execution_count": 0,
      "outputs": []
    },
    {
      "metadata": {
        "id": "VMyfM_u_BqaJ",
        "colab_type": "code",
        "outputId": "8ec7e504-115b-4b62-e140-5c9228e2e2da",
        "colab": {
          "base_uri": "https://localhost:8080/",
          "height": 36
        }
      },
      "cell_type": "code",
      "source": [
        "test.shape"
      ],
      "execution_count": 156,
      "outputs": [
        {
          "output_type": "execute_result",
          "data": {
            "text/plain": [
              "(64, 64, 3)"
            ]
          },
          "metadata": {
            "tags": []
          },
          "execution_count": 156
        }
      ]
    },
    {
      "metadata": {
        "id": "BqkhCKx1Bs2g",
        "colab_type": "code",
        "outputId": "3c8e8718-684d-40e1-e7a8-e5d10dac6bc5",
        "colab": {
          "base_uri": "https://localhost:8080/",
          "height": 268
        }
      },
      "cell_type": "code",
      "source": [
        "plt.imshow(test, interpolation='nearest')\n",
        "plt.show()"
      ],
      "execution_count": 157,
      "outputs": [
        {
          "output_type": "display_data",
          "data": {
            "image/png": "[encoded data removed]",
            "text/plain": [
              "<Figure size 432x288 with 1 Axes>"
            ]
          },
          "metadata": {
            "tags": []
          }
        }
      ]
    },
    {
      "metadata": {
        "id": "5lIwaw4E_oVY",
        "colab_type": "code",
        "colab": {
          "base_uri": "https://localhost:8080/",
          "height": 36
        },
        "outputId": "d9ae7739-b911-44ad-bdbe-c6563f8b3dc9"
      },
      "cell_type": "code",
      "source": [
        "BUFFER_SIZE = 2944\n",
        "BATCH_SIZE = 32\n",
        "\n",
        "print(f\"Number Of Batches = {BUFFER_SIZE//BATCH_SIZE}\")"
      ],
      "execution_count": 158,
      "outputs": [
        {
          "output_type": "stream",
          "text": [
            "Number Of Batches = 92\n"
          ],
          "name": "stdout"
        }
      ]
    },
    {
      "metadata": {
        "id": "nDCXzEZH8VPH",
        "colab_type": "code",
        "colab": {}
      },
      "cell_type": "code",
      "source": [
        "# x = np.arange(12)\n",
        "# print(x)\n",
        "# np.split(x, 3)"
      ],
      "execution_count": 0,
      "outputs": []
    },
    {
      "metadata": {
        "id": "X1Uzh6sRP7Pe",
        "colab_type": "code",
        "outputId": "9069b40c-1b1f-4fc7-ce34-56a72d2a73d2",
        "colab": {
          "base_uri": "https://localhost:8080/",
          "height": 52
        }
      },
      "cell_type": "code",
      "source": [
        "train_data = np.array(X)\n",
        "np.random.shuffle(train_data)\n",
        "print(len(train_data[:BUFFER_SIZE]))\n",
        "\n",
        "train_data = np.split(train_data[:BUFFER_SIZE], BUFFER_SIZE//BATCH_SIZE)\n",
        "\n",
        "print (f\"Number Of Batches = {len(train_data)}, Batch Size = {len(train_data[0])}\")"
      ],
      "execution_count": 160,
      "outputs": [
        {
          "output_type": "stream",
          "text": [
            "2944\n",
            "Number Of Batches = 92, Batch Size = 32\n"
          ],
          "name": "stdout"
        }
      ]
    },
    {
      "metadata": {
        "id": "CctSE95E_-y6",
        "colab_type": "code",
        "colab": {}
      },
      "cell_type": "code",
      "source": [
        "!pip install -q pyyaml  # Required to save models in YAML format"
      ],
      "execution_count": 0,
      "outputs": []
    },
    {
      "metadata": {
        "id": "tZmgB62M__ty",
        "colab_type": "code",
        "colab": {}
      },
      "cell_type": "code",
      "source": [
        "def make_generator_model():\n",
        "  # In Keras, you assemble layers to build models. A model is (usually) a graph of layers. The most common type of model is a stack of layers\n",
        "  model = tf.keras.Sequential()\n",
        "  \n",
        "  \"\"\"\n",
        "  Add a densely-connected layer to the model\n",
        "  the model will take as input arrays of shape (*, 100).\n",
        "  And and output arrays of shape (*, 4*4*256)\n",
        "  \n",
        " \n",
        "  \"\"\"\n",
        "  \"\"\" Output of shape 4x4x1024. We're taking input noise of shape (100,1) \"\"\"\n",
        "  model.add(layers.Dense(4*4*1024, use_bias = False, input_shape = (100,)))\n",
        "  \n",
        "  \"\"\"\n",
        "  You can think about batch normalization as doing preprocessing at every layer of the network.\n",
        "  Accelerating Deep Network Training by Reducing Internal Covariate Shift\n",
        "  \"\"\"\n",
        "  model.add(layers.BatchNormalization())\n",
        "  \n",
        "  \"\"\"\n",
        "  ReLU is linear (identity) for all positive values, and zero for all negative values. \n",
        "  Leaky ReLU has a small slope for negative values, instead of altogether zero. For example, leaky ReLU may have y = 0.01x when x < 0\n",
        "  \"\"\"\n",
        "  model.add(layers.LeakyReLU())\n",
        "  \n",
        "  # reshape the output from something flattened to something with a shape of (7,7,256)\n",
        "  model.add(layers.Reshape(( 4, 4, 1024)))\n",
        "  #print(model.output_shape)\n",
        "  #print(\"here 1\")\n",
        "  assert model.output_shape == (None, 4, 4, 1024) # Note: None is the batch size\n",
        "  \n",
        "  \"\"\"\n",
        "  The generator uses a transposed convolutional layer (Upsampling) layers to produce an image from seed (random noise).\n",
        "  \n",
        "  128 is the dimensionality of the output space\n",
        "  (5,5) specifies the height and width of the 2D convolution window\n",
        "  strides = (1,1) specifies the strides of the convolution along the height and width \n",
        "  \n",
        "  \"\"\"\n",
        "  model.add(layers.Conv2DTranspose(512, (5, 5), strides = (2,2), padding = \"same\", use_bias = False))\n",
        "  #print(model.output_shape)\n",
        "  #print(\"here2\")\n",
        "  assert model.output_shape == (None, 8, 8, 512)\n",
        "  model.add(layers.BatchNormalization())\n",
        "  model.add(layers.LeakyReLU())\n",
        "  \n",
        "  # Another transposed convolutional layer (upsampling)\n",
        "  #print(\"here3\")\n",
        "  model.add(layers.Conv2DTranspose(256, (5,5), strides = (2,2), padding = \"same\", use_bias = False))\n",
        "  #print(\"here4\")\n",
        "  assert model.output_shape == (None, 16, 16, 256)\n",
        "  model.add(layers.BatchNormalization())\n",
        "  model.add(layers.LeakyReLU())\n",
        "  \n",
        "  # Another transposed convolutional layer (upsampling)\n",
        "  #print(\"here4\")\n",
        "  model.add(layers.Conv2DTranspose(128, (5,5), strides = (2,2), padding = \"same\", use_bias = False))\n",
        "  #print(\"here5\")\n",
        "  assert model.output_shape == (None, 32, 32, 128)\n",
        "  model.add(layers.BatchNormalization())\n",
        "  model.add(layers.LeakyReLU())\n",
        "  \n",
        "  # Final output layer also a convolutional layer (upsampling), tanh goes from -1 to 1\n",
        "  #print(\"here6\")\n",
        "  model.add(layers.Conv2DTranspose(3, (5,5), strides = (2,2), padding = \"same\", use_bias = False, activation = \"tanh\"))\n",
        "  #print(\"here7\")\n",
        "\n",
        "  \n",
        "  print(f\"model.output_shape is {model.output_shape}\")\n",
        "  assert model.output_shape == (None, 64, 64, 3)\n",
        "  \n",
        "  \n",
        "  return model"
      ],
      "execution_count": 0,
      "outputs": []
    },
    {
      "metadata": {
        "id": "EvvA6EqREHS0",
        "colab_type": "code",
        "outputId": "c1138509-0c23-4d04-c35b-a8ec024635ad",
        "colab": {
          "base_uri": "https://localhost:8080/",
          "height": 320
        }
      },
      "cell_type": "code",
      "source": [
        "generator = make_generator_model()\n",
        "\n",
        "noise = tf.random.normal([1,100]) # shape is 1, 100\n",
        "generated_image = generator(noise, training = False)\n",
        "\n",
        "print(generated_image.shape)\n",
        "\n",
        "plt.imshow(generated_image[0, :, :, 0], cmap =\"gist_rainbow\")"
      ],
      "execution_count": 163,
      "outputs": [
        {
          "output_type": "stream",
          "text": [
            "model.output_shape is (None, 64, 64, 3)\n",
            "(1, 64, 64, 3)\n"
          ],
          "name": "stdout"
        },
        {
          "output_type": "execute_result",
          "data": {
            "text/plain": [
              "<matplotlib.image.AxesImage at 0x7f7de393af28>"
            ]
          },
          "metadata": {
            "tags": []
          },
          "execution_count": 163
        },
        {
          "output_type": "display_data",
          "data": {
            "image/png": "[encoded data removed]",
            "text/plain": [
              "<Figure size 432x288 with 1 Axes>"
            ]
          },
          "metadata": {
            "tags": []
          }
        }
      ]
    },
    {
      "metadata": {
        "id": "1fc7RQZ1EL97",
        "colab_type": "code",
        "outputId": "e87d8b0c-5166-403f-81ad-f9ebd0053100",
        "colab": {
          "base_uri": "https://localhost:8080/",
          "height": 36
        }
      },
      "cell_type": "code",
      "source": [
        "type(generated_image[0, :, :, 0])\n"
      ],
      "execution_count": 164,
      "outputs": [
        {
          "output_type": "execute_result",
          "data": {
            "text/plain": [
              "tensorflow.python.framework.ops.EagerTensor"
            ]
          },
          "metadata": {
            "tags": []
          },
          "execution_count": 164
        }
      ]
    },
    {
      "metadata": {
        "id": "-vpfgcDYESOB",
        "colab_type": "code",
        "colab": {}
      },
      "cell_type": "code",
      "source": [
        "def make_discriminator_model():\n",
        "    model = tf.keras.Sequential()\n",
        "    model.add(layers.Conv2D(64, (5, 5), strides=(2, 2), padding='same', \n",
        "                                     input_shape=[64, 64, 3]))\n",
        "    model.add(layers.LeakyReLU())\n",
        "    model.add(layers.Dropout(0.3)) # Dropout consists in randomly setting a fraction rate of input units to 0 at each update during training time, which helps prevent overfitting.\n",
        "      \n",
        "    model.add(layers.Conv2D(128, (5, 5), strides=(2, 2), padding='same'))\n",
        "    model.add(layers.LeakyReLU())\n",
        "    model.add(layers.Dropout(0.3))\n",
        "    \n",
        "    \"\"\"\n",
        "    Flattens the input. Does not affect the batch size.\n",
        "    If inputs are shaped (batch,) without a channel dimension, then flattening adds an extra channel dimension and output shapes are (batch, 1).\n",
        "    \"\"\"\n",
        "    model.add(layers.Flatten())\n",
        "    model.add(layers.Dense(1))\n",
        "     \n",
        "    return model"
      ],
      "execution_count": 0,
      "outputs": []
    },
    {
      "metadata": {
        "id": "UMDWUPwbEUuq",
        "colab_type": "code",
        "outputId": "fa4bf592-2da3-4508-83db-262e242694ff",
        "colab": {
          "base_uri": "https://localhost:8080/",
          "height": 36
        }
      },
      "cell_type": "code",
      "source": [
        "discriminator = make_discriminator_model()\n",
        "decision = discriminator(generated_image)\n",
        "print(decision)"
      ],
      "execution_count": 166,
      "outputs": [
        {
          "output_type": "stream",
          "text": [
            "tf.Tensor([[9.9191835e-05]], shape=(1, 1), dtype=float32)\n"
          ],
          "name": "stdout"
        }
      ]
    },
    {
      "metadata": {
        "id": "HKXgUWW3EYp-",
        "colab_type": "code",
        "colab": {}
      },
      "cell_type": "code",
      "source": [
        "# This method returns a helper function to compute cross entropy loss\n",
        "cross_entropy = tf.keras.losses.BinaryCrossentropy(from_logits = True)"
      ],
      "execution_count": 0,
      "outputs": []
    },
    {
      "metadata": {
        "id": "DvvYLvIUFgmQ",
        "colab_type": "code",
        "colab": {}
      },
      "cell_type": "code",
      "source": [
        "\"\"\"\n",
        "Discriminator Loss\n",
        "\n",
        "This method quantifies how well the discriminator is able to distinguish real images from fakes. It compares the discriminator's predicitions on real images to an array of 1s\n",
        "and the dicriminator's predicitons on fake (generated) images to an array of 0s.\n",
        "\"\"\"\n",
        "def discriminator_loss(real_output, fake_output):\n",
        "  real_loss = cross_entropy(tf.ones_like(real_output), real_output)\n",
        "  fake_loss = cross_entropy(tf.zeros_like(fake_output), fake_output)\n",
        "  total_loss = real_loss + fake_loss\n",
        "  \n",
        "  return total_loss"
      ],
      "execution_count": 0,
      "outputs": []
    },
    {
      "metadata": {
        "id": "ZwSHLGpYFqm2",
        "colab_type": "code",
        "colab": {}
      },
      "cell_type": "code",
      "source": [
        "\"\"\"\n",
        "Generator Loss\n",
        "\n",
        "The generator's loss quantifies how well it was able to trick the discrimator. Intuitively, if the generator is performing well, the discriminator will classify the fake images as real (or 1).\n",
        "Here, we will compare the discriminators decisions on the generated images to an array of 1s.\n",
        "\"\"\"\n",
        "def generator_loss(fake_output):\n",
        "  return cross_entropy(tf.ones_like(fake_output), fake_output)"
      ],
      "execution_count": 0,
      "outputs": []
    },
    {
      "metadata": {
        "id": "N7Xgh-SyFsv4",
        "colab_type": "code",
        "colab": {}
      },
      "cell_type": "code",
      "source": [
        "\"\"\"\n",
        "The discriminator and the generator optimizers are different since we will train two networks separately.\n",
        "The Adam optimization algorithm is an extension to stochastic gradient descent.\n",
        "Stochastic gradient descent maintains a single learning rate (termed alpha) for all weight updates and the learning rate does not change during training.\n",
        "A learning rate is maintained for each network weight (parameter) and separately adapted as learning unfolds.\n",
        "\n",
        "\"\"\"\n",
        "generator_optimizer = tf.keras.optimizers.Adam(1e-4)\n",
        "discriminator_optimizer = tf.keras.optimizers.Adam(1e-4)"
      ],
      "execution_count": 0,
      "outputs": []
    },
    {
      "metadata": {
        "id": "4xXOTPYwFxBJ",
        "colab_type": "code",
        "colab": {}
      },
      "cell_type": "code",
      "source": [
        "checkpoint_dir = \"./training_checkpoints\"\n",
        "checkpoint_prefix = os.path.join(checkpoint_dir, \"ckpt\")\n",
        "checkpoint = tf.train.Checkpoint(generator_optimizer = generator_optimizer,\n",
        "                                 discriminator_optimizer = discriminator_optimizer,\n",
        "                                 generator = generator,\n",
        "                                 discriminator = discriminator)"
      ],
      "execution_count": 0,
      "outputs": []
    },
    {
      "metadata": {
        "id": "h6Z0uvtFF_RK",
        "colab_type": "code",
        "outputId": "1da6215d-b14e-4f6b-a24c-8a67b1491938",
        "colab": {
          "base_uri": "https://localhost:8080/",
          "height": 36
        }
      },
      "cell_type": "code",
      "source": [
        "type(generator)"
      ],
      "execution_count": 172,
      "outputs": [
        {
          "output_type": "execute_result",
          "data": {
            "text/plain": [
              "tensorflow.python.keras.engine.sequential.Sequential"
            ]
          },
          "metadata": {
            "tags": []
          },
          "execution_count": 172
        }
      ]
    },
    {
      "metadata": {
        "id": "yumu1hVOGBa5",
        "colab_type": "code",
        "colab": {}
      },
      "cell_type": "code",
      "source": [
        "##*****save generator\n",
        "generator.save_weights('./training_checkpoints/md')"
      ],
      "execution_count": 0,
      "outputs": []
    },
    {
      "metadata": {
        "id": "nRFtoLcZGJIN",
        "colab_type": "code",
        "outputId": "8b172058-8708-432e-e6ca-67b835a8dca3",
        "colab": {
          "base_uri": "https://localhost:8080/",
          "height": 52
        }
      },
      "cell_type": "code",
      "source": [
        "generator1  = make_generator_model()\n",
        "generator1.load_weights('./training_checkpoints/md')"
      ],
      "execution_count": 174,
      "outputs": [
        {
          "output_type": "stream",
          "text": [
            "model.output_shape is (None, 64, 64, 3)\n"
          ],
          "name": "stdout"
        },
        {
          "output_type": "execute_result",
          "data": {
            "text/plain": [
              "<tensorflow.python.training.tracking.util.CheckpointLoadStatus at 0x7f7de424f400>"
            ]
          },
          "metadata": {
            "tags": []
          },
          "execution_count": 174
        }
      ]
    },
    {
      "metadata": {
        "id": "4YK9Q-SXGLHM",
        "colab_type": "code",
        "outputId": "dd271190-1d19-4329-b8bb-2ffd1deaa66e",
        "colab": {
          "base_uri": "https://localhost:8080/",
          "height": 286
        }
      },
      "cell_type": "code",
      "source": [
        "noise = tf.random.normal([1,100]) # shape is 1, 100\n",
        "generated_image = generator1(noise, training = False)\n",
        "\n",
        "plt.imshow(generated_image[0, :, :, 0], cmap =\"gist_rainbow\")"
      ],
      "execution_count": 175,
      "outputs": [
        {
          "output_type": "execute_result",
          "data": {
            "text/plain": [
              "<matplotlib.image.AxesImage at 0x7f7de3bc5710>"
            ]
          },
          "metadata": {
            "tags": []
          },
          "execution_count": 175
        },
        {
          "output_type": "display_data",
          "data": {
            "image/png": "[encoded data removed]",
            "text/plain": [
              "<Figure size 432x288 with 1 Axes>"
            ]
          },
          "metadata": {
            "tags": []
          }
        }
      ]
    },
    {
      "metadata": {
        "id": "jOUuJhwaGOsb",
        "colab_type": "code",
        "colab": {}
      },
      "cell_type": "code",
      "source": [
        "EPOCHS = 50\n",
        "noise_dim = 100\n",
        "num_examples_to_generate = 8\n",
        "\n",
        "# We will reuse this seed overtime (so it's easier) to visualize progress in the animated GIF\n",
        "seed = tf.random.normal([num_examples_to_generate, noise_dim])\n",
        "# print (seed)"
      ],
      "execution_count": 0,
      "outputs": []
    },
    {
      "metadata": {
        "id": "lHbUQd6TNYNX",
        "colab_type": "code",
        "colab": {}
      },
      "cell_type": "code",
      "source": [
        "# Helper function to load image\n",
        "def load_image( infilename ) :\n",
        "    img = PIL.Image.open( infilename )\n",
        "#     print ((img))\n",
        "#     print (np.array(img).shape)\n",
        "    img = img.resize((64,64))\n",
        "    img.load()\n",
        "    data = np.asarray( img, dtype=\"int32\" )\n",
        "    return data"
      ],
      "execution_count": 0,
      "outputs": []
    },
    {
      "metadata": {
        "id": "y7y5qnY7GTnt",
        "colab_type": "code",
        "colab": {}
      },
      "cell_type": "code",
      "source": [
        "\"\"\"\n",
        "The training loop begins with generator receiving a random seed as input. \n",
        "That seed is used to produce an image. The discriminator is then used to classify real images (drawn from the training set) and fakes images (produced by the generator). \n",
        "The loss is calculated for each of these models, and the gradients are used to update the generator and discriminator.\n",
        "\"\"\"\n",
        "\n",
        "# Notice the use of tf.function\n",
        "# This annotation causes the function to be \"compiled\"\n",
        "#@tf.function\n",
        "def train_step(images):\n",
        "    noise = tf.random.normal([BATCH_SIZE, noise_dim])\n",
        "    \n",
        "    # take the image links and return a cropped image\n",
        "    new_images = []\n",
        "    #print(\"here1 ...\")\n",
        "    i = 0 \n",
        "    for file_name in images:\n",
        "        # print(file_name)\n",
        "        # print(\"Hey here\")\n",
        "        # print(i)\n",
        "        i+=1\n",
        "        new_pic = load_image(file_name)\n",
        "        #print(\"ok\")\n",
        "        new_images.append(new_pic)\n",
        "        #print(\"now what\")\n",
        "    \n",
        "    # print (f\"length = {len(new_images)}\")\n",
        "    \n",
        "    #print(\"here 2\")\n",
        "    images = np.array(new_images)\n",
        "    #print(\"reconfiguring complete\")\n",
        "    # Do some reshaping\n",
        "    # print(f\"{images.shape} images.shape[0] = {images.shape[0]}\")\n",
        "    images = images.reshape(images.shape[0], 64, 64, 3).astype('float32') # puts each number in its own numpy array so instead of [1,2,3] gonna be [[1], [2], [3]]\n",
        "    # print(\"here 3\")\n",
        "    images = (images - 127.5) / 127.5 # Normalize the images to [-1. 1] so if it was 0 --> -1 and if it was 255 --> 1\n",
        "    # print(\"Normalized the data\")\n",
        "    \"\"\"\n",
        "GradientTape() Records operations for automatic differentiation. Operations are recorded if \n",
        "they are executed within this context manager and at least one of their inputs is being \"watched\".\n",
        "    \"\"\"\n",
        "    with tf.GradientTape() as gen_tape, tf.GradientTape() as disc_tape:\n",
        "      generated_images = generator(noise, training=True)\n",
        "\n",
        "      real_output = discriminator(images, training=True)\n",
        "      fake_output = discriminator(generated_images, training=True)\n",
        "\n",
        "      gen_loss = generator_loss(fake_output)\n",
        "      disc_loss = discriminator_loss(real_output, fake_output)\n",
        "\n",
        "    gradients_of_generator = gen_tape.gradient(gen_loss, generator.trainable_variables)\n",
        "    gradients_of_discriminator = disc_tape.gradient(disc_loss, discriminator.trainable_variables)\n",
        "\n",
        "    generator_optimizer.apply_gradients(zip(gradients_of_generator, generator.trainable_variables)) # The zip() function returns an iterator of tuples based on the iterable object.\n",
        "    discriminator_optimizer.apply_gradients(zip(gradients_of_discriminator, discriminator.trainable_variables))\n",
        "    \n",
        "    # free memory!\n",
        "    images = None\n",
        "    \n",
        "    return gen_loss, disc_loss"
      ],
      "execution_count": 0,
      "outputs": []
    },
    {
      "metadata": {
        "id": "DSnmgIL7RMsM",
        "colab_type": "code",
        "colab": {}
      },
      "cell_type": "code",
      "source": [
        "generator_loss_epoch = []\n",
        "discriminator_loss_epoch = []"
      ],
      "execution_count": 0,
      "outputs": []
    },
    {
      "metadata": {
        "id": "n4PkCQpKGcab",
        "colab_type": "code",
        "colab": {}
      },
      "cell_type": "code",
      "source": [
        "def train(dataset, epochs):  \n",
        "  \n",
        "  for epoch in range(epochs):\n",
        "    start = time.time()\n",
        "    batch_no = 1\n",
        "    for image_batch in dataset:\n",
        "      print(f\"batch_no = {batch_no}\")\n",
        "      batch_no += 1\n",
        "      g_loss, d_loss = train_step(image_batch)\n",
        "      \n",
        "\n",
        "    # Produce images for the GIF as we go\n",
        "    display.clear_output(wait=True)\n",
        "    generator_loss_epoch.append(g_loss)\n",
        "    discriminator_loss_epoch.append(d_loss)\n",
        "    \n",
        "    print (f\"Generator Loss is {g_loss} \\nDiscriminator Loss is {d_loss}\")\n",
        "\n",
        "    generate_and_save_images(generator,\n",
        "                             epoch + 1,\n",
        "                             seed)\n",
        "    \n",
        "    # Save the model every 15 epochs\n",
        "    if (epoch + 1) % 15 == 0:\n",
        "      checkpoint.save(file_prefix = checkpoint_prefix)\n",
        "    \n",
        "    print ('Time for epoch {} is {} sec'.format(epoch + 1, time.time()-start))\n",
        "    \n",
        "  # Generate after the final epoch\n",
        "  display.clear_output(wait=True)\n",
        "  generate_and_save_images(generator,\n",
        "                           epochs,\n",
        "                           seed)"
      ],
      "execution_count": 0,
      "outputs": []
    },
    {
      "metadata": {
        "id": "cf_GNVMdGh7_",
        "colab_type": "code",
        "colab": {}
      },
      "cell_type": "code",
      "source": [
        "from PIL import Image\n",
        "def generate_and_save_images(model, epoch, test_input):\n",
        "  # Notice `training` is set to False. \n",
        "  # This is so all layers run in inference mode (batchnorm).\n",
        "  predictions = model(test_input, training=False)\n",
        "\n",
        "  result = predictions[0]\n",
        "  plt.imshow(result)\n",
        "  \n",
        "#   w, h = 64, 64\n",
        "#   data = np.zeros((h, w, 4), dtype=np.uint8)\n",
        "\n",
        "#   for i in range(w):\n",
        "#       for j in range(h):\n",
        "#           data[i][j] = result[i][j]\n",
        "\n",
        "#   img = Image.fromarray(data, 'RGB')\n",
        "\n",
        "#   img.show()\n",
        "#   print(\"done\")\n",
        "#   fig = plt.figure(figsize=(4,4))\n",
        "#   print(predictions[0] * 127.5 + 127.5)\n",
        "#   plt.show()  \n",
        "  \n",
        "#   for i in range(predictions.shape[0]):\n",
        "      \n",
        "#   print (\"predictions[0].shape\", (predictions[0] * 127.5 + 127.5).shape)\n",
        "#   new_im = Image.fromarray(predictions[0] * 127.5 + 127.5)\n",
        "#   new_im.show()\n",
        "  \n",
        "  \n",
        "  \n",
        "    \n",
        "#       print (f\"{(predictions[i, :, :, 0]*127.5 + 127.5).shape} , {(predictions[i, :, :, 0]).shape}\")\n",
        "#       img = Image.fromarray(predictions[0]*127.5 + 127.5, 'RGB')\n",
        "#       img.save('my.png')\n",
        "#       img.show()\n",
        "#       break\n",
        "    \n",
        "#       plt.subplot(4, 4, i+1)\n",
        "#       plt.imshow(predictions[i, :, :, :]*127.5 + 127.5)\n",
        "#       plt.axis('off')\n",
        "#       print ((predictions[i, :, :, 0]*127.5 + 127.5).shape)\n",
        "#       break\n",
        "        \n",
        "#   plt.savefig('image_at_epoch_{:04d}.png'.format(epoch), cmap =\"gist_rainbow\")\n",
        "#   plt.show()"
      ],
      "execution_count": 0,
      "outputs": []
    },
    {
      "metadata": {
        "id": "N5BG_aSVw98q",
        "colab_type": "code",
        "colab": {}
      },
      "cell_type": "code",
      "source": [
        "def generate_and_save_images(model, epoch, test_input):\n",
        "  # Notice `training` is set to False. \n",
        "  # This is so all layers run in inference mode (batchnorm).\n",
        "  predictions = model(test_input, training=False)\n",
        "\n",
        "  fig = plt.figure(figsize=(4,4))\n",
        "  \n",
        "  for i in range(predictions.shape[0]):\n",
        "      plt.subplot(4, 4, i+1)\n",
        "      plt.imshow(predictions[i])\n",
        "      plt.axis('off')\n",
        "        \n",
        "  plt.savefig('image_at_epoch_{:04d}.png'.format(epoch), cmap =\"gist_rainbow\")\n",
        "  plt.show()"
      ],
      "execution_count": 0,
      "outputs": []
    },
    {
      "metadata": {
        "id": "IR11Rdxihqo-",
        "colab_type": "code",
        "outputId": "f07407e0-2feb-4362-dffd-8ee826560a23",
        "colab": {
          "base_uri": "https://localhost:8080/",
          "height": 315
        }
      },
      "cell_type": "code",
      "source": [
        "generate_and_save_images(generator,\n",
        "                           50,\n",
        "                           seed)"
      ],
      "execution_count": 271,
      "outputs": [
        {
          "output_type": "stream",
          "text": [
            "W0409 20:22:43.442694 140183385184128 image.py:648] Clipping input data to the valid range for imshow with RGB data ([0..1] for floats or [0..255] for integers).\n",
            "W0409 20:22:43.462197 140183385184128 image.py:648] Clipping input data to the valid range for imshow with RGB data ([0..1] for floats or [0..255] for integers).\n",
            "W0409 20:22:43.480642 140183385184128 image.py:648] Clipping input data to the valid range for imshow with RGB data ([0..1] for floats or [0..255] for integers).\n",
            "W0409 20:22:43.499011 140183385184128 image.py:648] Clipping input data to the valid range for imshow with RGB data ([0..1] for floats or [0..255] for integers).\n",
            "W0409 20:22:43.518851 140183385184128 image.py:648] Clipping input data to the valid range for imshow with RGB data ([0..1] for floats or [0..255] for integers).\n",
            "W0409 20:22:43.546805 140183385184128 image.py:648] Clipping input data to the valid range for imshow with RGB data ([0..1] for floats or [0..255] for integers).\n",
            "W0409 20:22:43.571015 140183385184128 image.py:648] Clipping input data to the valid range for imshow with RGB data ([0..1] for floats or [0..255] for integers).\n",
            "W0409 20:22:43.591084 140183385184128 image.py:648] Clipping input data to the valid range for imshow with RGB data ([0..1] for floats or [0..255] for integers).\n"
          ],
          "name": "stderr"
        },
        {
          "output_type": "display_data",
          "data": {
            "image/png": "[encoded data removed]",
            "text/plain": [
              "<Figure size 288x288 with 8 Axes>"
            ]
          },
          "metadata": {
            "tags": []
          }
        }
      ]
    },
    {
      "metadata": {
        "id": "W40kNYxqG4Nn",
        "colab_type": "code",
        "outputId": "ffce05ea-7f73-4e0a-cbe3-feb74388ad3b",
        "colab": {
          "base_uri": "https://localhost:8080/",
          "height": 303
        }
      },
      "cell_type": "code",
      "source": [
        "%%time\n",
        "print(f\"{len(train_data)} batches of size -> {len(train_data[0])}\")\n",
        "\n",
        "train(train_data, 50)"
      ],
      "execution_count": 205,
      "outputs": [
        {
          "output_type": "display_data",
          "data": {
            "image/png": "[encoded data removed]",
            "text/plain": [
              "<Figure size 288x288 with 1 Axes>"
            ]
          },
          "metadata": {
            "tags": []
          }
        },
        {
          "output_type": "stream",
          "text": [
            "CPU times: user 11min 37s, sys: 1min 49s, total: 13min 27s\n",
            "Wall time: 29min 38s\n"
          ],
          "name": "stdout"
        }
      ]
    },
    {
      "metadata": {
        "id": "fysUhULwQ_4P",
        "colab_type": "code",
        "colab": {
          "base_uri": "https://localhost:8080/",
          "height": 36
        },
        "outputId": "18b4c9fd-7040-4570-8929-34de8bbae640"
      },
      "cell_type": "code",
      "source": [
        "generator_loss_epoch[0]"
      ],
      "execution_count": 126,
      "outputs": [
        {
          "output_type": "execute_result",
          "data": {
            "text/plain": [
              "<tf.Tensor: id=1562055, shape=(), dtype=float32, numpy=0.57956>"
            ]
          },
          "metadata": {
            "tags": []
          },
          "execution_count": 126
        }
      ]
    },
    {
      "metadata": {
        "id": "lV_Zk4bB0u3l",
        "colab_type": "code",
        "outputId": "a3804fbd-d561-462a-9ca9-46c0eba2793c",
        "colab": {
          "base_uri": "https://localhost:8080/",
          "height": 403
        }
      },
      "cell_type": "code",
      "source": [
        "!pip install gdown==3.6.0"
      ],
      "execution_count": 0,
      "outputs": [
        {
          "output_type": "stream",
          "text": [
            "Collecting gdown==3.6.0\n",
            "  Downloading https://files.pythonhosted.org/packages/12/33/e9f21d0b3f85804ca570d124fb7a80c12a99948ff495cf54dfb72f18bf9e/gdown-3.6.0.tar.gz\n",
            "Requirement already satisfied: requests in /usr/local/lib/python3.6/dist-packages (from gdown==3.6.0) (2.18.4)\n",
            "Requirement already satisfied: six in /usr/local/lib/python3.6/dist-packages (from gdown==3.6.0) (1.11.0)\n",
            "Requirement already satisfied: tqdm in /usr/local/lib/python3.6/dist-packages (from gdown==3.6.0) (4.28.1)\n",
            "Requirement already satisfied: certifi>=2017.4.17 in /usr/local/lib/python3.6/dist-packages (from requests->gdown==3.6.0) (2019.3.9)\n",
            "Requirement already satisfied: urllib3<1.23,>=1.21.1 in /usr/local/lib/python3.6/dist-packages (from requests->gdown==3.6.0) (1.22)\n",
            "Requirement already satisfied: chardet<3.1.0,>=3.0.2 in /usr/local/lib/python3.6/dist-packages (from requests->gdown==3.6.0) (3.0.4)\n",
            "Requirement already satisfied: idna<2.7,>=2.5 in /usr/local/lib/python3.6/dist-packages (from requests->gdown==3.6.0) (2.6)\n",
            "Building wheels for collected packages: gdown\n",
            "  Building wheel for gdown (setup.py) ... \u001b[?25ldone\n",
            "\u001b[?25h  Stored in directory: /root/.cache/pip/wheels/97/90/fa/25654eb65da3e6da7752db71a164e0eb8f7a6fb4335eeb46ab\n",
            "Successfully built gdown\n",
            "Installing collected packages: gdown\n",
            "  Found existing installation: gdown 3.6.4\n",
            "    Uninstalling gdown-3.6.4:\n",
            "      Successfully uninstalled gdown-3.6.4\n",
            "Successfully installed gdown-3.6.0\n"
          ],
          "name": "stdout"
        }
      ]
    },
    {
      "metadata": {
        "id": "UUW__ILBdBLd",
        "colab_type": "code",
        "colab": {}
      },
      "cell_type": "code",
      "source": [
        "!git remote add origin https://github.com/bhavi289/DL-GANs.git"
      ],
      "execution_count": 0,
      "outputs": []
    },
    {
      "metadata": {
        "id": "-eFa02zSxPNj",
        "colab_type": "code",
        "colab": {
          "base_uri": "https://localhost:8080/",
          "height": 64
        },
        "outputId": "4c8ac1a0-1115-4a53-ab13-17963495822a"
      },
      "cell_type": "code",
      "source": [
        "!git status"
      ],
      "execution_count": 273,
      "outputs": [
        {
          "output_type": "stream",
          "text": [
            "fatal: not a git repository (or any of the parent directories): .git\n"
          ],
          "name": "stdout"
        }
      ]
    },
    {
      "metadata": {
        "id": "e9ATzXw7dET0",
        "colab_type": "code",
        "outputId": "0a629790-4337-4374-81c0-63827b835fa8",
        "colab": {
          "base_uri": "https://localhost:8080/",
          "height": 64
        }
      },
      "cell_type": "code",
      "source": [
        "!git add ."
      ],
      "execution_count": 272,
      "outputs": [
        {
          "output_type": "stream",
          "text": [
            "fatal: not a git repository (or any of the parent directories): .git\n"
          ],
          "name": "stdout"
        }
      ]
    },
    {
      "metadata": {
        "id": "roevxgk8dRvp",
        "colab_type": "code",
        "colab": {}
      },
      "cell_type": "code",
      "source": [
        "!git commit -m \"\""
      ],
      "execution_count": 0,
      "outputs": []
    }
  ]
}